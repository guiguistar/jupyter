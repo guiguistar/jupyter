{
 "cells": [
  {
   "cell_type": "markdown",
   "metadata": {},
   "source": [
    "***\n",
    "# IAS1 Corrigé TD 09 - Fonctions récursives\n",
    "***"
   ]
  },
  {
   "cell_type": "markdown",
   "metadata": {},
   "source": [
    "***\n",
    "## Exercice 09.1\n",
    "***"
   ]
  },
  {
   "cell_type": "markdown",
   "metadata": {},
   "source": [
    "1. Quelle est la définition d'une fonction récursive?\n",
    "2. Quelles sont les deux propriétés indispensables qu'une fonction récursive doit posséder?"
   ]
  },
  {
   "cell_type": "markdown",
   "metadata": {},
   "source": [
    "1. Une fonction est récrsive si elle contient un appel à elle-même.\n",
    "2. Les deux propriétés indispensables qu'une fonction récursive doit posséder sont:\n",
    "   1. Contenir un cas d'arrêt\n",
    "   2. L'appel récursif doit être fait sur des données différentes évoluant vers le cas d'arrêt"
   ]
  },
  {
   "cell_type": "markdown",
   "metadata": {},
   "source": [
    "***\n",
    "## Exercice 09.2\n",
    "***"
   ]
  },
  {
   "cell_type": "markdown",
   "metadata": {},
   "source": [
    "Un étudiant propose la fonction suivante pour calculer la factorielle d'un entier donné:"
   ]
  },
  {
   "cell_type": "code",
   "execution_count": 1,
   "metadata": {},
   "outputs": [],
   "source": [
    "def f1(n):\n",
    "    if n > 0:\n",
    "        return n * f1(n-1)"
   ]
  },
  {
   "cell_type": "markdown",
   "metadata": {},
   "source": [
    "1. Que manque-t-il à la fonction **f**? Quelles sont les conséquences?\n",
    "2. Corriger ce code."
   ]
  },
  {
   "cell_type": "raw",
   "metadata": {},
   "source": [
    "1. Il manque le critère d'arrêt. Les conséquences sont un phénomène de recursions infinies.\n",
    "2. Voir ci-dessous."
   ]
  },
  {
   "cell_type": "code",
   "execution_count": 1,
   "metadata": {},
   "outputs": [
    {
     "data": {
      "text/plain": [
       "120"
      ]
     },
     "execution_count": 1,
     "metadata": {},
     "output_type": "execute_result"
    }
   ],
   "source": [
    "# 2.\n",
    "def f1(n):\n",
    "    if n > 0:\n",
    "        return n * f1(n-1)\n",
    "    else:\n",
    "        return 1\n",
    "f1(5)"
   ]
  },
  {
   "cell_type": "markdown",
   "metadata": {},
   "source": [
    "***\n",
    "## Exercice 09.3\n",
    "***"
   ]
  },
  {
   "cell_type": "markdown",
   "metadata": {},
   "source": [
    "On propose l'implémentation suivante pour la fonction factorielle:"
   ]
  },
  {
   "cell_type": "code",
   "execution_count": null,
   "metadata": {},
   "outputs": [],
   "source": [
    "def f2(n):\n",
    "    if n == 0:\n",
    "        return 1\n",
    "    else:\n",
    "        return n * f2(n)"
   ]
  },
  {
   "cell_type": "markdown",
   "metadata": {},
   "source": [
    "1. Quelle erreur a-t-elle été comise?\n",
    "2. Quelle est la conséquence de cette erreur?\n",
    "3. Corriger le code."
   ]
  },
  {
   "cell_type": "markdown",
   "metadata": {},
   "source": [
    "1. L'appel récursif se fait sur la même donnée que l'appel originel et non sur une donnée évoluant vers le cas d'arrêt, c'est-à-dire sur une donnée plus petite.\n",
    "2. La conséquence est un phénomène de récursions infinies.\n",
    "3. Voir ci-dessous."
   ]
  },
  {
   "cell_type": "code",
   "execution_count": 2,
   "metadata": {},
   "outputs": [
    {
     "data": {
      "text/plain": [
       "720"
      ]
     },
     "execution_count": 2,
     "metadata": {},
     "output_type": "execute_result"
    }
   ],
   "source": [
    "def f2(n):\n",
    "    if n == 0:\n",
    "        return 1\n",
    "    else:\n",
    "        return n * f2(n-1)\n",
    "f2(6)"
   ]
  },
  {
   "cell_type": "markdown",
   "metadata": {},
   "source": [
    "***\n",
    "## Exercice 09.4\n",
    "***"
   ]
  },
  {
   "cell_type": "markdown",
   "metadata": {},
   "source": [
    "Ecrire l'itération suivante de manière récursive:"
   ]
  },
  {
   "cell_type": "code",
   "execution_count": 12,
   "metadata": {},
   "outputs": [
    {
     "name": "stdout",
     "output_type": "stream",
     "text": [
      "0\n",
      "1\n",
      "2\n",
      "3\n",
      "4\n",
      "5\n",
      "6\n",
      "7\n",
      "8\n",
      "9\n"
     ]
    }
   ],
   "source": [
    "for i in range(10):\n",
    "    print(i)"
   ]
  },
  {
   "cell_type": "code",
   "execution_count": 14,
   "metadata": {},
   "outputs": [
    {
     "name": "stdout",
     "output_type": "stream",
     "text": [
      "0\n",
      "1\n",
      "2\n",
      "3\n",
      "4\n",
      "5\n",
      "6\n",
      "7\n",
      "8\n",
      "9\n"
     ]
    }
   ],
   "source": [
    "# Correction\n",
    "def f(i,n):\n",
    "    if i == n:\n",
    "        pass\n",
    "    else:\n",
    "        print(i)\n",
    "        f(i+1,n)\n",
    "f(0,10)"
   ]
  },
  {
   "cell_type": "markdown",
   "metadata": {},
   "source": [
    "***\n",
    "## Exercice 09.5\n",
    "***"
   ]
  },
  {
   "cell_type": "markdown",
   "metadata": {},
   "source": [
    "La suite de Fibonacci $u_{n}$ est définie par $\\begin{cases}u_{0}=0\\\\u_{1}=1\\\\u_{n}=u_{n-1}+u_{n-2}\\;\\textrm{si}\\; n\\geq 2\\end{cases}$.\n",
    "\n",
    "Implémenter une fonction récursive permettant de calculer $u_{n}$."
   ]
  },
  {
   "cell_type": "code",
   "execution_count": 6,
   "metadata": {},
   "outputs": [
    {
     "data": {
      "text/plain": [
       "55"
      ]
     },
     "execution_count": 6,
     "metadata": {},
     "output_type": "execute_result"
    }
   ],
   "source": [
    "# Correction\n",
    "def u(n):\n",
    "    if n == 0:\n",
    "        return 0\n",
    "    elif n == 1:\n",
    "        return 1\n",
    "    else:\n",
    "        return u(n-1) + u(n-2)\n",
    "    \n",
    "u(10)"
   ]
  },
  {
   "cell_type": "markdown",
   "metadata": {},
   "source": [
    "***\n",
    "## Exercice 09.6\n",
    "***"
   ]
  },
  {
   "cell_type": "markdown",
   "metadata": {},
   "source": [
    " Implémenter la suite de Fibonacci en utilisant une fonction à récursivité terminale."
   ]
  },
  {
   "cell_type": "code",
   "execution_count": 7,
   "metadata": {},
   "outputs": [
    {
     "data": {
      "text/plain": [
       "55"
      ]
     },
     "execution_count": 7,
     "metadata": {},
     "output_type": "execute_result"
    }
   ],
   "source": [
    "# Correction\n",
    "def fibo_rt(n, acc1, acc2):\n",
    "    if n == 0:\n",
    "        return acc1\n",
    "    if n == 1:\n",
    "        return acc2\n",
    "    return fibo_rt(n-1, acc2, acc1 + acc2)\n",
    "fibo_rt(10,0,1) "
   ]
  },
  {
   "cell_type": "markdown",
   "metadata": {},
   "source": [
    "***\n",
    "## Exercice 09.7\n",
    "***"
   ]
  },
  {
   "cell_type": "markdown",
   "metadata": {},
   "source": [
    "On donne la fonction suivante:"
   ]
  },
  {
   "cell_type": "code",
   "execution_count": 1,
   "metadata": {},
   "outputs": [],
   "source": [
    "import math\n",
    "\n",
    "def u(k,x):\n",
    "    return x**k / math.factorial(k)"
   ]
  },
  {
   "cell_type": "markdown",
   "metadata": {},
   "source": [
    "1. Ecrire une fonction récursive qui calcule la fonction $\\displaystyle S(n,x)=\\sum_{k=0}^{n}u(k,x)$.\n",
    "2. Cacluler S(0,1), S(1,1), S(10,1).\n",
    "3. Conjecturer la valeur de la limite de $S(n,1)$ quand $n$ tend vers $+\\infty$."
   ]
  },
  {
   "cell_type": "code",
   "execution_count": 5,
   "metadata": {},
   "outputs": [],
   "source": [
    "# 1.\n",
    "def S(n,x):\n",
    "    if n == 0:\n",
    "        return u(0,x)\n",
    "    else:\n",
    "        return u(n,x) + S(n-1,x)"
   ]
  },
  {
   "cell_type": "code",
   "execution_count": 6,
   "metadata": {},
   "outputs": [
    {
     "name": "stdout",
     "output_type": "stream",
     "text": [
      "1.0 2.0 2.7182818011463845\n"
     ]
    }
   ],
   "source": [
    "# 2. \n",
    "print(S(0,1),S(1,1),S(10,1))"
   ]
  },
  {
   "cell_type": "markdown",
   "metadata": {},
   "source": [
    "3. $S(n,1)$ converge vers $e$ quand $n$ tend vers $+\\infty$."
   ]
  },
  {
   "cell_type": "code",
   "execution_count": 10,
   "metadata": {},
   "outputs": [
    {
     "name": "stdout",
     "output_type": "stream",
     "text": [
      "1.0 2.0 2.7182818011463845\n"
     ]
    }
   ],
   "source": [
    "# 1. en récursion terminale\n",
    "def St(n,x,acc):\n",
    "    if n == 0:\n",
    "        return acc + u(0,x)\n",
    "    else:\n",
    "        return St(n-1,x,acc + u(n,x))\n",
    "    \n",
    "print(St(0,1,0),St(1,1,0),St(10,1,0))"
   ]
  },
  {
   "cell_type": "markdown",
   "metadata": {},
   "source": [
    "***\n",
    "## Exercice 09.8\n",
    "***"
   ]
  },
  {
   "cell_type": "markdown",
   "metadata": {},
   "source": [
    "En mathématiques, les coefficients binômiaux peuvent être définis à l'aide de la relation de récurrence suivante:\n",
    "$$\n",
    "\\begin{pmatrix}\n",
    "n\\\\\n",
    "p\n",
    "\\end{pmatrix}=\n",
    "\\begin{pmatrix}\n",
    "n-1\\\\\n",
    "p-1\n",
    "\\end{pmatrix}+\n",
    "\\begin{pmatrix}\n",
    "n-1\\\\\n",
    "p\n",
    "\\end{pmatrix}\n",
    "\\;\\textrm{si}\\;1\\leq p\\leq n\\\\\n",
    "$$\n",
    "\n",
    "et $\\begin{pmatrix}0\\\\0\\end{pmatrix}=1$, ainsi que $\\begin{pmatrix}n\\\\p\\end{pmatrix}=0\\;\\textrm{si}\\;p>n$.\n",
    "\n",
    "1. Implémenter une fonction récursive **coeff(n, p)** permettant de calculer les coefficients binômiaux.\n",
    "2. Combien d'appels récursifs comporte cette fonction?"
   ]
  },
  {
   "cell_type": "code",
   "execution_count": 15,
   "metadata": {},
   "outputs": [],
   "source": [
    "# 1.\n",
    "def coeff(n, p):\n",
    "    if p > n:\n",
    "        return 0\n",
    "    elif p == 0: # cas n = p = 0\n",
    "        return 1\n",
    "    else:\n",
    "        return  coeff(n-1, p-1) + coeff(n-1, p)\n",
    " "
   ]
  },
  {
   "cell_type": "markdown",
   "metadata": {},
   "source": [
    "2. La fonction **coeff** comporte deux appels récursifs."
   ]
  },
  {
   "cell_type": "code",
   "execution_count": 14,
   "metadata": {},
   "outputs": [
    {
     "data": {
      "text/plain": [
       "[1, 5, 10, 10, 5, 1]"
      ]
     },
     "execution_count": 14,
     "metadata": {},
     "output_type": "execute_result"
    }
   ],
   "source": [
    "   \n",
    "[coeff(5,k) for k in range(6)]"
   ]
  },
  {
   "cell_type": "code",
   "execution_count": 16,
   "metadata": {},
   "outputs": [
    {
     "data": {
      "text/plain": [
       "(1, 1)"
      ]
     },
     "execution_count": 16,
     "metadata": {},
     "output_type": "execute_result"
    }
   ],
   "source": [
    "coeff(10,0), coeff(4,4)"
   ]
  },
  {
   "cell_type": "markdown",
   "metadata": {},
   "source": [
    "***\n",
    "## Exercice 09.\n",
    "***"
   ]
  },
  {
   "cell_type": "markdown",
   "metadata": {},
   "source": [
    "Pour monter escalier une personne peut gravir une ou deux marches à la fois. Il n'y a qu'une façon de monter un escalier de 0 marche et il n'y a qu'une façon de monter un escalier de 1 marche. Ecrire une fonction récursive permettant de calculer le nombre de façon de monter un escalier de $n$ marches."
   ]
  },
  {
   "cell_type": "code",
   "execution_count": 4,
   "metadata": {},
   "outputs": [],
   "source": [
    "# Correction\n",
    "def esc(n):\n",
    "    if n == 0 or n == 1:\n",
    "        return 1\n",
    "    else:\n",
    "        return esc(n-1) + esc(n-2)"
   ]
  },
  {
   "cell_type": "code",
   "execution_count": 6,
   "metadata": {},
   "outputs": [
    {
     "data": {
      "text/plain": [
       "5"
      ]
     },
     "execution_count": 6,
     "metadata": {},
     "output_type": "execute_result"
    }
   ],
   "source": [
    "esc(4)"
   ]
  },
  {
   "cell_type": "markdown",
   "metadata": {},
   "source": [
    "***\n",
    "## Exercice 09.9\n",
    "***"
   ]
  },
  {
   "cell_type": "markdown",
   "metadata": {},
   "source": [
    "On donne la fonction suivante:"
   ]
  },
  {
   "cell_type": "code",
   "execution_count": 9,
   "metadata": {},
   "outputs": [],
   "source": [
    "def f(a, b):\n",
    "    if b == 0:\n",
    "        return a\n",
    "    else:\n",
    "        return f(a+1, b-1)"
   ]
  },
  {
   "cell_type": "markdown",
   "metadata": {},
   "source": [
    "1. Pour quelles valeurs de **b**, le critère d'arrêt est-il atteint?\n",
    "2. Tester la fonction **f** pour différentes valeurs de **a** et de **b**.\n",
    "3. De quelle opération **f** est-elle l'implémentation récursive?"
   ]
  },
  {
   "cell_type": "markdown",
   "metadata": {},
   "source": [
    "1. Le critère d'arrêt est atteint pour les valeurs de **b** entières positives ou nulles."
   ]
  },
  {
   "cell_type": "code",
   "execution_count": 10,
   "metadata": {},
   "outputs": [
    {
     "data": {
      "text/plain": [
       "(5, 40, 49)"
      ]
     },
     "execution_count": 10,
     "metadata": {},
     "output_type": "execute_result"
    }
   ],
   "source": [
    "# 2.\n",
    "f(2, 3), f(10,30), f(42,7)"
   ]
  },
  {
   "cell_type": "markdown",
   "metadata": {},
   "source": [
    "3. **f** est l'implémentation récursive de l'addition."
   ]
  },
  {
   "cell_type": "markdown",
   "metadata": {},
   "source": [
    "***\n",
    "## Exercice 09.10\n",
    "***"
   ]
  },
  {
   "cell_type": "markdown",
   "metadata": {},
   "source": [
    "Implémenter la multiplication des entiers à l'aide d'une fonction récursive."
   ]
  },
  {
   "cell_type": "code",
   "execution_count": 11,
   "metadata": {},
   "outputs": [
    {
     "data": {
      "text/plain": [
       "(0, 0, 42, 42, 100)"
      ]
     },
     "execution_count": 11,
     "metadata": {},
     "output_type": "execute_result"
    }
   ],
   "source": [
    "# Correction\n",
    "def f(a, b):\n",
    "    if b == 0:\n",
    "        return 0\n",
    "    if b == 1:\n",
    "        return a\n",
    "    return a + f(a, b-1)\n",
    "f(0,42), f(42,0), f(42,1), f(6,7), f(10,10)"
   ]
  },
  {
   "cell_type": "markdown",
   "metadata": {},
   "source": [
    "***\n",
    "## Exercice 09.11\n",
    "***"
   ]
  },
  {
   "cell_type": "markdown",
   "metadata": {},
   "source": [
    "Ecrire une fonction récursive qui permet d'afficher en colonne les éléments d'une liste."
   ]
  },
  {
   "cell_type": "code",
   "execution_count": 8,
   "metadata": {},
   "outputs": [
    {
     "name": "stdout",
     "output_type": "stream",
     "text": [
      "10\n",
      "20\n",
      "30\n",
      "42\n"
     ]
    }
   ],
   "source": [
    "# Correction\n",
    "def afficher_liste(liste):\n",
    "    if len(liste) == 0:\n",
    "        pass\n",
    "    else:\n",
    "        print(liste[0])\n",
    "        afficher_liste(liste[1:])\n",
    "afficher_liste([10,20,30,42])"
   ]
  },
  {
   "cell_type": "markdown",
   "metadata": {},
   "source": [
    "***\n",
    "## Exercice 09.12\n",
    "***"
   ]
  },
  {
   "cell_type": "markdown",
   "metadata": {},
   "source": [
    "Erire une fontion récursive **inverse** qui \"inverse\" l'ordre des caractères d'une chaîne de caractères. Par exemple **inverse(\"abc\")** doit retourner **\"cba\"**."
   ]
  },
  {
   "cell_type": "code",
   "execution_count": 15,
   "metadata": {},
   "outputs": [
    {
     "data": {
      "text/plain": [
       "'cba'"
      ]
     },
     "execution_count": 15,
     "metadata": {},
     "output_type": "execute_result"
    }
   ],
   "source": [
    "# Correction\n",
    "def inverse(chaine):\n",
    "    if len(chaine) < 2:\n",
    "        return chaine\n",
    "    else:\n",
    "        return inverse(chaine[1:]) + chaine[0]\n",
    "inverse(\"abc\")"
   ]
  },
  {
   "cell_type": "markdown",
   "metadata": {},
   "source": [
    "***\n",
    "## Exercice 09.13\n",
    "***"
   ]
  },
  {
   "cell_type": "markdown",
   "metadata": {},
   "source": [
    "Ecrire une fonction récursive qui teste si une chaîne de caractères est un palendrome."
   ]
  },
  {
   "cell_type": "code",
   "execution_count": 21,
   "metadata": {},
   "outputs": [],
   "source": [
    "# Correction\n",
    "\n",
    "def palendrome(chaine):\n",
    "    if len(chaine) < 2:\n",
    "        return True\n",
    "    else:\n",
    "        return chaine[0] == chaine[-1] and palendrome(chaine[1:-1])"
   ]
  },
  {
   "cell_type": "code",
   "execution_count": 22,
   "metadata": {},
   "outputs": [
    {
     "data": {
      "text/plain": [
       "True"
      ]
     },
     "execution_count": 22,
     "metadata": {},
     "output_type": "execute_result"
    }
   ],
   "source": [
    "palendrome(\"radar\")"
   ]
  },
  {
   "cell_type": "code",
   "execution_count": 23,
   "metadata": {},
   "outputs": [
    {
     "data": {
      "text/plain": [
       "False"
      ]
     },
     "execution_count": 23,
     "metadata": {},
     "output_type": "execute_result"
    }
   ],
   "source": [
    "palendrome(\"bonjour\")"
   ]
  },
  {
   "cell_type": "markdown",
   "metadata": {},
   "source": [
    "***\n",
    "## Exercice 09.\n",
    "***"
   ]
  },
  {
   "cell_type": "markdown",
   "metadata": {},
   "source": [
    "Ecrire une fonction récursive **occurences(chaine, caractere)** qui compte le nombre d'occurence(s) d'un caractère donné dans une chaîne donnée."
   ]
  },
  {
   "cell_type": "code",
   "execution_count": 26,
   "metadata": {},
   "outputs": [],
   "source": [
    "# Correction\n",
    "def occurences(chaine, caractere):\n",
    "    if len(chaine) == 0:\n",
    "        return 0\n",
    "    else:\n",
    "        return int(chaine[0] == caractere) + occurences(chaine[1:], caractere)"
   ]
  },
  {
   "cell_type": "code",
   "execution_count": 27,
   "metadata": {},
   "outputs": [
    {
     "data": {
      "text/plain": [
       "2"
      ]
     },
     "execution_count": 27,
     "metadata": {},
     "output_type": "execute_result"
    }
   ],
   "source": [
    "occurences(\"bonjour\", 'o')"
   ]
  },
  {
   "cell_type": "code",
   "execution_count": 28,
   "metadata": {},
   "outputs": [
    {
     "data": {
      "text/plain": [
       "0"
      ]
     },
     "execution_count": 28,
     "metadata": {},
     "output_type": "execute_result"
    }
   ],
   "source": [
    "occurences(\"en revoir\", 'u')"
   ]
  },
  {
   "cell_type": "markdown",
   "metadata": {},
   "source": [
    "***\n",
    "## Exercice 09.\n",
    "***"
   ]
  },
  {
   "cell_type": "markdown",
   "metadata": {},
   "source": [
    "1. Ecrire une fonction récursive permettant de calculer le pgcd de de nombres entiers $a$ et $b$. On pourra supposer $a\\geq b>0$. "
   ]
  },
  {
   "cell_type": "code",
   "execution_count": 47,
   "metadata": {},
   "outputs": [],
   "source": [
    "def pgcd(a,b):\n",
    "    if a%b == 0:\n",
    "        return b\n",
    "    else:\n",
    "        return pgcd(b, a%b)"
   ]
  },
  {
   "cell_type": "code",
   "execution_count": 49,
   "metadata": {},
   "outputs": [
    {
     "data": {
      "text/plain": [
       "7"
      ]
     },
     "execution_count": 49,
     "metadata": {},
     "output_type": "execute_result"
    }
   ],
   "source": [
    "pgcd(28,49)"
   ]
  },
  {
   "cell_type": "markdown",
   "metadata": {},
   "source": [
    "2. Réécrire la fonction précédente en utilisant une lambda."
   ]
  },
  {
   "cell_type": "code",
   "execution_count": 50,
   "metadata": {},
   "outputs": [],
   "source": [
    "pgcd = lambda a,b: pgcd(b, a%b) if a%b else b"
   ]
  },
  {
   "cell_type": "code",
   "execution_count": 51,
   "metadata": {},
   "outputs": [
    {
     "data": {
      "text/plain": [
       "2"
      ]
     },
     "execution_count": 51,
     "metadata": {},
     "output_type": "execute_result"
    }
   ],
   "source": [
    "pgcd(102,4)"
   ]
  }
 ],
 "metadata": {
  "kernelspec": {
   "display_name": "Python 3",
   "language": "python",
   "name": "python3"
  },
  "language_info": {
   "codemirror_mode": {
    "name": "ipython",
    "version": 3
   },
   "file_extension": ".py",
   "mimetype": "text/x-python",
   "name": "python",
   "nbconvert_exporter": "python",
   "pygments_lexer": "ipython3",
   "version": "3.7.3"
  }
 },
 "nbformat": 4,
 "nbformat_minor": 2
}
