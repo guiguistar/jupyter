{
 "cells": [
  {
   "cell_type": "markdown",
   "metadata": {},
   "source": [
    "# Les fonctions récursives"
   ]
  },
  {
   "cell_type": "markdown",
   "metadata": {},
   "source": [
    "## Sommaire\n",
    "\n",
    "* <a href=\"#Prérequis\">Prérequis</a>\n",
    "* <a href=\"#Objectifs\">Objectifs</a>\n",
    "* <a href=\"#Définition\">Définition</a>\n",
    "* <a href=\"#Fonctionnement-et-règles\">Fonctionnnement et règles</a>\n",
    "* <a href=\"#Fonction-avec-plusieurs-appels-récursifs\">Fonction avec plusieurs appels récursifs</a>"
   ]
  },
  {
   "cell_type": "markdown",
   "metadata": {},
   "source": [
    "## Prérequis\n",
    "* Fonctions\n",
    "* Le MiMo: [Récursivité - Bases](https://courses.ionisx.com/courses/ref/m186/x/courseware/6a5a0ff9b91f42e3b300acd85c4256cc/a70f70ef67d94827857dd30e6d71e509/)"
   ]
  },
  {
   "cell_type": "markdown",
   "metadata": {},
   "source": [
    "## Objectifs\n",
    "* Connaître la définition d'une fonction récursive\n",
    "* Identifier le critère d'arrêt d'une fonction récursive\n",
    "* Identifier l'appel récursif\n",
    "* Valider l'évolution des données passées en paramètre d'une fonction récursive\n",
    "* Ecrire les appels lors de la descente et lors de la remonté\n",
    "* Savoir interpréter récursivement un problème simple"
   ]
  },
  {
   "cell_type": "markdown",
   "metadata": {},
   "source": [
    "## Définition\n",
    "Une fonction est dite *recursive* si elle contient un appel à elle-même.\n",
    "### En mathématiques\n",
    "Une définition récursive est une définition dans laquelle intervient le nom que l'on est en train de définir.\n",
    "#### Exemples\n",
    "* La fonction factorielle est définie en mathématiques, pour $n\\in\\mathbb{N}$ par:\n",
    "\n",
    "$$\n",
    "n!=\n",
    "\\begin{cases}\n",
    "1\\;\\textrm{si}\\;n=0\\\\\n",
    "n\\times(n-1)! \n",
    "\\end{cases}\n",
    "$$\n",
    "\n",
    "Cette définition récursive (en mathématiques, on parlera de *récurrence*): le nom \"$!$\" intervient dans le corps de sa propre définition.\n",
    "\n",
    "Le calcul de $n!$ termine toujours: le cas $n=0$ arrivera forcément.\n",
    "\n",
    "* La suite définie par $\\begin{cases}u_{0}=0.5\\\\\n",
    "\\forall n\\geq 0,\\;u_{n+1}=\\frac{u_{n}}{2}+\\frac{1}{u_{n}}\\end{cases}$ est définie récursivement.\n",
    "\n",
    "En effet, $u_{n+1}$ s'exprime en fonction de $u_{n}$."
   ]
  },
  {
   "cell_type": "markdown",
   "metadata": {},
   "source": [
    "###  En python\n",
    "Il n'y a qu'à traduire la définition  mathématique:"
   ]
  },
  {
   "cell_type": "code",
   "execution_count": 1,
   "metadata": {},
   "outputs": [],
   "source": [
    "def fact(n):\n",
    "    if n == 0:\n",
    "        return 1\n",
    "    else:\n",
    "        return n * fact(n-1) # fact(n-1) est l'appel récursif"
   ]
  },
  {
   "cell_type": "code",
   "execution_count": 17,
   "metadata": {},
   "outputs": [
    {
     "data": {
      "text/plain": [
       "720"
      ]
     },
     "execution_count": 17,
     "metadata": {},
     "output_type": "execute_result"
    }
   ],
   "source": [
    "fact(6)"
   ]
  },
  {
   "cell_type": "code",
   "execution_count": 3,
   "metadata": {},
   "outputs": [],
   "source": [
    "def f(x):\n",
    "    return x/2 + 1/x\n",
    "def u(n):\n",
    "    return 0.5 if n == 0 else f(u(n-1)) # syntaxe equivalente à celle ci-dessus"
   ]
  },
  {
   "cell_type": "code",
   "execution_count": 4,
   "metadata": {},
   "outputs": [
    {
     "data": {
      "text/plain": [
       "1.414213562373095"
      ]
     },
     "execution_count": 4,
     "metadata": {},
     "output_type": "execute_result"
    }
   ],
   "source": [
    "u(10)"
   ]
  },
  {
   "cell_type": "markdown",
   "metadata": {},
   "source": [
    "### En python avec une lambda"
   ]
  },
  {
   "cell_type": "code",
   "execution_count": 9,
   "metadata": {},
   "outputs": [
    {
     "data": {
      "text/plain": [
       "120"
      ]
     },
     "execution_count": 9,
     "metadata": {},
     "output_type": "execute_result"
    }
   ],
   "source": [
    "fact = lambda n: 1 if n == 0 else n * fact(n-1)\n",
    "fact(5)"
   ]
  },
  {
   "cell_type": "markdown",
   "metadata": {},
   "source": [
    "## Fonctionnement et règles\n",
    "### Fonctionnement\n",
    "L'appel de la fonction **fact(n)** provoquera l'appel **fact(n-1)** qui lui-même provoquera l'appel **fact(n-2)** et ainsi de suite (la *descente* dans les appels récursifs) jusqu'à arriver au \"cas d'arrêt\": l'appel **fact(0)**. A partir de là, la *remontée* commence: **fact(0)** retourne sa valeur, l'appel du dessus **fact(1)** peut alors se terminer à son tour et on remonte ainsi (chaque appel terminé est remplacé par sa valeur dans l'appel du dessus qui peut se terminer à son tour) jusqu'à l'appel initial.\n",
    "### Eviter la récursion infinie\n",
    "Si on oublie le cas d'arrêt ou si l'appel récursif ne se fait pas sur des valeurs différentes qui évoluent vers le cas d'arrêt, la fonction partira en *récursion infinie*: un nombre infini (en théorie) d'appels sera fait.\n",
    "\n",
    "Le schéma d'un algorithme récursif est simple:\n",
    "\n",
    "**si** <condition d'arrêt> **alors**<br>\n",
    "&nbsp;&nbsp;<instruction d'arrêt><br>\n",
    "**sinon**<br>\n",
    "&nbsp;&nbsp;<instruction comportant un appel récursif><br>\n",
    "**fin si**"
   ]
  },
  {
   "cell_type": "markdown",
   "metadata": {},
   "source": [
    "+ Règle 1: un algorithme récursif contient toujours un cas d'arrêt\n",
    "+ Règle 2: l'appel récursif doit toujours être fait sur des données différentes évoluant vers le cas d'arrêt"
   ]
  },
  {
   "cell_type": "markdown",
   "metadata": {},
   "source": [
    "Dans certains cas, la récursion infinie peut être due à des paramètres non valides (par exemple, $n\\notin\\mathbb{N}$ dans **fact**). Les tests pour éviter cela doivent être faits avant d'appeler la fonction récursive (et surtout pas dans la fonction récursive)."
   ]
  },
  {
   "cell_type": "markdown",
   "metadata": {},
   "source": [
    "### Penser récursif\n",
    "Si l'on doit implémenter une fonction déjà définie par récurrence, alors il n'y a qu'à la traduire. Sinon, on doit trouver un équivalent à l'\"équation de récurrence\", c'est-à-dire exprimer le problème en fonction du même problème, mais sur des **données plus petites**, sans oublier de définir un cas d'arrêt.\n",
    "\n",
    "Le principe de la récursivité: pour décrire un algorithme prenant en entrée une donnée *d*, on fait un appel au même algorithme prenant en entree une donnée *d'* fonction de *d* (en général n sous-ensemble de *d* ou une donnée \"plus petite\").\n",
    "\n",
    "#### Exemple: inversion de liste\n",
    "On souhaite impémenter une fonction récursive qui \"inverse\" l'ordre des éléments d'une liste. Par exemple si la liste en entrée est ['a', 'b', 'c'] la sortie obtenue en sortie est ['c', 'b', 'a']."
   ]
  },
  {
   "cell_type": "code",
   "execution_count": 16,
   "metadata": {},
   "outputs": [
    {
     "data": {
      "text/plain": [
       "['c', 'b', 'a']"
      ]
     },
     "execution_count": 16,
     "metadata": {},
     "output_type": "execute_result"
    }
   ],
   "source": [
    "def inverser(liste):\n",
    "    if len(liste) == 0: # Le cas d'arrêt est la liste vide\n",
    "        return liste\n",
    "    else:\n",
    "        return inverser(liste[1:]) + [liste[0]] # Appel récursif sur une sous-liste\n",
    "inverser(['a', 'b', 'c'])"
   ]
  },
  {
   "cell_type": "markdown",
   "metadata": {},
   "source": [
    "## Fonction avec plusieurs appels récursifs\n",
    "Une fonction (ou procédure) peut comporter plusieurs appels récursifs. Par exemple, la suite de Fibonacci définie, pour $n\\in\\mathbb{N}$, par:\n",
    "$$\n",
    "F(n)=\n",
    "\\begin{cases}\n",
    "1\\;\\textrm{si}\\;n\\leq 1\\\\\n",
    "F(n-1)+F(n-2)\\;\\textrm{sinon}    \n",
    "\\end{cases}\n",
    "$$\n",
    "\n",
    "que l'on traduit tout simplement:"
   ]
  },
  {
   "cell_type": "code",
   "execution_count": 4,
   "metadata": {},
   "outputs": [],
   "source": [
    "def fibo(n):\n",
    "    if n == 0 or n == 1:\n",
    "        return 1\n",
    "    else:\n",
    "        return fibo(n-1) + fib(n-2)"
   ]
  },
  {
   "cell_type": "markdown",
   "metadata": {},
   "source": [
    "## Conclusion\n",
    "Pour définir un algorithme récursif on essaiera donc de trouver une définition par récurrence du problème. Il faudra pour cela exprimer le problème en fonctoin de \"lui-même\" mais sur des données plus petites (ou un sous-ensemble des données).\n",
    "\n",
    "Il faut s'assurer de la terminaison d'un algorithme récursif. Pour cela:\n",
    "+ il doit toujours y avoir au moins un cas d'arrêt\n",
    "+ le ou les appel(s) récursif(s) se font sur des données différentes, en général, fonctions des données initiales. Cette évolution doit forcément tendre vers un cas d'arrêt!\n",
    "\n",
    "Une bonne manière de faire: ne pas trop essayer de suivre dans les moindres détails les appels récursifs pour comprendre le sens d'une fonction récursive. Il vaut mieux en général comprendre synthétiquement la fonction."
   ]
  },
  {
   "cell_type": "markdown",
   "metadata": {},
   "source": [
    "**Il faut avoir confiance en la récursivité**"
   ]
  },
  {
   "cell_type": "markdown",
   "metadata": {},
   "source": [
    "# Pour aller plus loin"
   ]
  },
  {
   "cell_type": "markdown",
   "metadata": {},
   "source": [
    "## Interprétations récursives\n",
    "### Sommes\n",
    "Soient $a_{1}$, $a_2$, $\\dots$, $a_{n}$, $\\dots$, une suite d'objets additionnables. Consdirons la somme des $n$ premiers: $S_{n}=a_{1}+a_{2}+\\dots+a_{n}$.\n",
    "\n",
    "Le calcul suivant fait apparaître naturellement l'interprétation récursive de la somme:\n",
    "$$\n",
    "\\begin{align*}\n",
    "S_{n} &= a_{1}+\\dots+a_{n-1}+a_{n}\\\\\n",
    "&= (a_{1}+\\dots+a_{n-1})+a_{n}\\\\\n",
    "&= S_{n-1} + a_{n}\n",
    "\\end{align*}\n",
    "$$\n",
    "\n",
    "Le critère d'arrêt étant $S_{1}=a_{1}$."
   ]
  },
  {
   "cell_type": "markdown",
   "metadata": {},
   "source": [
    "Exemple:"
   ]
  },
  {
   "cell_type": "code",
   "execution_count": 12,
   "metadata": {},
   "outputs": [
    {
     "data": {
      "text/plain": [
       "(1, 3, 55)"
      ]
     },
     "execution_count": 12,
     "metadata": {},
     "output_type": "execute_result"
    }
   ],
   "source": [
    "def a(k): # a(k) = k\n",
    "    return k\n",
    "\n",
    "def S(n): # Somme des k premiers entiers\n",
    "    if n == 1:\n",
    "        return a(1)\n",
    "    else:\n",
    "        return S(n-1) + a(n)\n",
    "    \n",
    "S(1), S(2), S(10)"
   ]
  },
  {
   "cell_type": "markdown",
   "metadata": {},
   "source": [
    "### Produits\n",
    "Soient $a_{1}$, $a_2$, $\\dots$, $a_{n}$, $\\dots$, une suite d'objets additionnables. Consdirons le produit des $n$ premiers: $P_{n}=a_{1}\\times a_{2}+\\dots\\times a_{n}$.\n",
    "\n",
    "Le calcul suivant fait apparaître naturellement l'interprétation récursive de la somme:\n",
    "$$\n",
    "\\begin{align*}\n",
    "P_{n} &= a_{1}\\times\\dots\\times a_{n-1}\\times a_{n}\\\\\n",
    "&= (a_{1}\\times\\dots+a_{n-1})\\times a_{n}\\\\\n",
    "&= P_{n-1} \\times a_{n}\n",
    "\\end{align*}\n",
    "$$\n",
    "\n",
    "Le critère d'arrêt étant $P_{1}=a_{1}$."
   ]
  },
  {
   "cell_type": "markdown",
   "metadata": {},
   "source": [
    "### Listes\n",
    "La définition récursive d'une liste peut être formulée ainsi:\n",
    "+ une liste vide (critrèe d'arrêt)\n",
    "+ [un élément] + une liste"
   ]
  },
  {
   "cell_type": "code",
   "execution_count": 14,
   "metadata": {},
   "outputs": [
    {
     "name": "stdout",
     "output_type": "stream",
     "text": [
      "[0, 1, 2, 3, 4, 5, 6, 7, 8, 9]\n"
     ]
    },
    {
     "data": {
      "text/plain": [
       "True"
      ]
     },
     "execution_count": 14,
     "metadata": {},
     "output_type": "execute_result"
    }
   ],
   "source": [
    "liste = list(range(10)) # [0, 1, 2, 3, 4, 5, 6, 7, 8, 9]\n",
    "print(liste)\n",
    "\n",
    "liste == [liste[0]] + liste[1:]"
   ]
  },
  {
   "cell_type": "markdown",
   "metadata": {},
   "source": [
    "## Récursion terminale\n",
    "On parle de *récursion terminale* ou de *fonction à récursivité terminale* lorsque l'appel récursif est la dernière opération effectuée dans le corps de la fonction.\n",
    "\n",
    "Une récursion terminale est équivalente à une itération et permet de ne pas saturer la pile d'appels."
   ]
  },
  {
   "cell_type": "markdown",
   "metadata": {},
   "source": [
    "Exemple:"
   ]
  },
  {
   "cell_type": "code",
   "execution_count": 18,
   "metadata": {},
   "outputs": [],
   "source": [
    "def fact_rt(n, acc):\n",
    "    if n == 0:\n",
    "        return acc\n",
    "    else:\n",
    "        return fact_rt(n-1, n*acc)"
   ]
  },
  {
   "cell_type": "code",
   "execution_count": 20,
   "metadata": {},
   "outputs": [
    {
     "data": {
      "text/plain": [
       "120"
      ]
     },
     "execution_count": 20,
     "metadata": {},
     "output_type": "execute_result"
    }
   ],
   "source": [
    "fact_rt(5,1)"
   ]
  },
  {
   "cell_type": "markdown",
   "metadata": {},
   "source": [
    "## Ressources \n",
    "+ MiMo à l'adresse: https://courses.ionisx.com/courses/ref/m186/x/courseware/6a5a0ff9b91f42e3b300acd85c4256cc/a70f70ef67d94827857dd30e6d71e509/\n",
    "+ Carnet disponible à l'adresse: https://github.com/guiguistar/jupyter/tree/master/fonctions_recursives"
   ]
  }
 ],
 "metadata": {
  "kernelspec": {
   "display_name": "Python 3",
   "language": "python",
   "name": "python3"
  },
  "language_info": {
   "codemirror_mode": {
    "name": "ipython",
    "version": 3
   },
   "file_extension": ".py",
   "mimetype": "text/x-python",
   "name": "python",
   "nbconvert_exporter": "python",
   "pygments_lexer": "ipython3",
   "version": "3.7.3"
  }
 },
 "nbformat": 4,
 "nbformat_minor": 4
}
