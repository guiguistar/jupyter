{
 "cells": [
  {
   "cell_type": "markdown",
   "metadata": {},
   "source": [
    "***\n",
    "# IAS1 TD 09 - Fonctions récursives\n",
    "***"
   ]
  },
  {
   "cell_type": "markdown",
   "metadata": {},
   "source": [
    "***\n",
    "## Exercice 9.\n",
    "***"
   ]
  },
  {
   "cell_type": "markdown",
   "metadata": {},
   "source": [
    "1. Quelle est la définition d'une fonction récursive?\n",
    "2. Quelles sont les deux propriétés indispensables qu'une fonction récursive doit posséder?"
   ]
  },
  {
   "cell_type": "markdown",
   "metadata": {},
   "source": [
    "***\n",
    "## Exercice 9.\n",
    "***"
   ]
  },
  {
   "cell_type": "markdown",
   "metadata": {},
   "source": [
    "Un étudiant propose la fonction suivante pour calculer la factorielle d'un entier donné:"
   ]
  },
  {
   "cell_type": "code",
   "execution_count": 1,
   "metadata": {},
   "outputs": [],
   "source": [
    "def f1(n):\n",
    "    if n > 0:\n",
    "        return n * f1(n-1)"
   ]
  },
  {
   "cell_type": "markdown",
   "metadata": {},
   "source": [
    "1. Que manque-t-il à la fonction **f**? Quelles sont les conséquences?\n",
    "2. Corriger ce code."
   ]
  },
  {
   "cell_type": "markdown",
   "metadata": {},
   "source": [
    "***\n",
    "Exercice 9.\n",
    "***\n",
    "On propose l'implémentation suivante pour la fonction factorielle:"
   ]
  },
  {
   "cell_type": "code",
   "execution_count": null,
   "metadata": {},
   "outputs": [],
   "source": [
    "def f2(n):\n",
    "    if n == 0:\n",
    "        return 1\n",
    "    else:\n",
    "        return n * f(n)"
   ]
  },
  {
   "cell_type": "markdown",
   "metadata": {},
   "source": [
    "1. Quelle erreur a-t-elle été comise?\n",
    "2. Quelle est la conséquence de cette erreur?"
   ]
  },
  {
   "cell_type": "markdown",
   "metadata": {},
   "source": [
    "***\n",
    "## Exercice 9.\n",
    "***"
   ]
  },
  {
   "cell_type": "markdown",
   "metadata": {},
   "source": [
    "On donne la fonction suivante:"
   ]
  },
  {
   "cell_type": "code",
   "execution_count": 1,
   "metadata": {},
   "outputs": [],
   "source": [
    "import math\n",
    "\n",
    "def u(k,x):\n",
    "    return x**k / math.factorial(k)"
   ]
  },
  {
   "cell_type": "markdown",
   "metadata": {},
   "source": [
    "1. Ecrire une fonction récursive qui calcule la fonction $\\displaystyle S(n,x)=\\sum_{k=0}^{n}u(k,x)$.\n",
    "2. Cacluler S(0,1), S(1,1), S(10,1).\n",
    "3. Conjecturer la valeur de la limite de $S(n,1)$ quand $n$ tend vers $+\\infty$."
   ]
  },
  {
   "cell_type": "code",
   "execution_count": 5,
   "metadata": {},
   "outputs": [],
   "source": [
    "# Correction 1\n",
    "def S(n,x):\n",
    "    if n == 0:\n",
    "        return u(0,x)\n",
    "    else:\n",
    "        return u(n,x) + S(n-1,x)"
   ]
  },
  {
   "cell_type": "code",
   "execution_count": 6,
   "metadata": {},
   "outputs": [
    {
     "name": "stdout",
     "output_type": "stream",
     "text": [
      "1.0 2.0 2.7182818011463845\n"
     ]
    }
   ],
   "source": [
    "# Correction 2\n",
    "print(S(0,1),S(1,1),S(10,1))"
   ]
  },
  {
   "cell_type": "code",
   "execution_count": 10,
   "metadata": {},
   "outputs": [
    {
     "name": "stdout",
     "output_type": "stream",
     "text": [
      "1.0 2.0 2.7182818011463845\n"
     ]
    }
   ],
   "source": [
    "# Correction 1 en récursion terminale\n",
    "def St(n,x,acc):\n",
    "    if n == 0:\n",
    "        return acc + u(0,x)\n",
    "    else:\n",
    "        return St(n-1,x,acc + u(n,x))\n",
    "    \n",
    "print(St(0,1,0),St(1,1,0),St(10,1,0))"
   ]
  },
  {
   "cell_type": "markdown",
   "metadata": {},
   "source": [
    "***\n",
    "## Exercice 9.\n",
    "***\n",
    "\n",
    "En mathématiques, les coefficients binômiaux peuvent être définis à l'aide de la relation de récurrence suivante:\n",
    "$$\n",
    "\\begin{pmatrix}\n",
    "n\\\\\n",
    "p\n",
    "\\end{pmatrix}=\n",
    "\\begin{pmatrix}\n",
    "n-1\\\\\n",
    "p-1\n",
    "\\end{pmatrix}+\n",
    "\\begin{pmatrix}\n",
    "n-1\\\\\n",
    "p\n",
    "\\end{pmatrix}\n",
    "\\;\\textrm{si}\\;1\\leq p\\leq n\\\\\n",
    "$$\n",
    "\n",
    "et $\\begin{pmatrix}0\\\\0\\end{pmatrix}=1$, ainsi que $\\begin{pmatrix}n\\\\p\\end{pmatrix}=0\\;\\textrm{si}\\;p>n$.\n",
    "\n",
    "1. Implémenter une fonction récursive **coeff(n, p)** permettant de calculer les coefficients binômiaux.\n",
    "2. Combien d'appels récursifs comporte cette fonction?"
   ]
  },
  {
   "cell_type": "code",
   "execution_count": 15,
   "metadata": {},
   "outputs": [],
   "source": [
    "# Correction\n",
    "def coeff(n, p):\n",
    "    if p > n:\n",
    "        return 0\n",
    "    elif p == 0: # cas n = p = 0\n",
    "        return 1\n",
    "    else:\n",
    "        return  coeff(n-1, p-1) + coeff(n-1, p)\n",
    " "
   ]
  },
  {
   "cell_type": "code",
   "execution_count": 14,
   "metadata": {},
   "outputs": [
    {
     "data": {
      "text/plain": [
       "[1, 5, 10, 10, 5, 1]"
      ]
     },
     "execution_count": 14,
     "metadata": {},
     "output_type": "execute_result"
    }
   ],
   "source": [
    "   \n",
    "[coeff(5,k) for k in range(6)]"
   ]
  },
  {
   "cell_type": "code",
   "execution_count": 16,
   "metadata": {},
   "outputs": [
    {
     "data": {
      "text/plain": [
       "(1, 1)"
      ]
     },
     "execution_count": 16,
     "metadata": {},
     "output_type": "execute_result"
    }
   ],
   "source": [
    "coeff(10,0), coeff(4,4)"
   ]
  },
  {
   "cell_type": "markdown",
   "metadata": {},
   "source": [
    "***\n",
    "## Exercice 9.\n",
    "***\n",
    "Pour monter escalier une personne peut gravir une ou deux marches à la fois. Ecrire une fonction récursive permettant de calculer le nombre de façon de monter un escalier de $n$ marches."
   ]
  },
  {
   "cell_type": "code",
   "execution_count": 17,
   "metadata": {},
   "outputs": [],
   "source": [
    "# Correction\n",
    "def esc(n):\n",
    "    if n == 0 or n == 1:\n",
    "        return 1\n",
    "    else:\n",
    "        return esc(n-1) + esc(n-2)"
   ]
  },
  {
   "cell_type": "code",
   "execution_count": 18,
   "metadata": {},
   "outputs": [
    {
     "data": {
      "text/plain": [
       "2"
      ]
     },
     "execution_count": 18,
     "metadata": {},
     "output_type": "execute_result"
    }
   ],
   "source": [
    "esc(2)"
   ]
  },
  {
   "cell_type": "markdown",
   "metadata": {},
   "source": [
    "***\n",
    "Exercice 9.\n",
    "***\n",
    "Ecrire une fonction récursive qui teste si une chaîne de caractères est un palendrome."
   ]
  },
  {
   "cell_type": "code",
   "execution_count": 21,
   "metadata": {},
   "outputs": [],
   "source": [
    "# Correction\n",
    "\n",
    "def palendrome(chaine):\n",
    "    if len(chaine) < 2:\n",
    "        return True\n",
    "    else:\n",
    "        return chaine[0] == chaine[-1] and palendrome(chaine[1:-1])"
   ]
  },
  {
   "cell_type": "code",
   "execution_count": 22,
   "metadata": {},
   "outputs": [
    {
     "data": {
      "text/plain": [
       "True"
      ]
     },
     "execution_count": 22,
     "metadata": {},
     "output_type": "execute_result"
    }
   ],
   "source": [
    "palendrome(\"radar\")"
   ]
  },
  {
   "cell_type": "code",
   "execution_count": 23,
   "metadata": {},
   "outputs": [
    {
     "data": {
      "text/plain": [
       "False"
      ]
     },
     "execution_count": 23,
     "metadata": {},
     "output_type": "execute_result"
    }
   ],
   "source": [
    "palendrome(\"bonjour\")"
   ]
  },
  {
   "cell_type": "markdown",
   "metadata": {},
   "source": [
    "***\n",
    "Exercice 9.\n",
    "***\n",
    "Ecrire une fonction récursive **occurences(chaine, caractere)** qui compte le nombre d'occurence(s) d'un caractère donné dans une chaîne donnée."
   ]
  },
  {
   "cell_type": "code",
   "execution_count": 26,
   "metadata": {},
   "outputs": [],
   "source": [
    "# Correction\n",
    "def occurences(chaine, caractere):\n",
    "    if len(chaine) == 0:\n",
    "        return 0\n",
    "    else:\n",
    "        return int(chaine[0] == caractere) + occurences(chaine[1:], caractere)"
   ]
  },
  {
   "cell_type": "code",
   "execution_count": 27,
   "metadata": {},
   "outputs": [
    {
     "data": {
      "text/plain": [
       "2"
      ]
     },
     "execution_count": 27,
     "metadata": {},
     "output_type": "execute_result"
    }
   ],
   "source": [
    "occurences(\"bonjour\", 'o')"
   ]
  },
  {
   "cell_type": "code",
   "execution_count": 28,
   "metadata": {},
   "outputs": [
    {
     "data": {
      "text/plain": [
       "0"
      ]
     },
     "execution_count": 28,
     "metadata": {},
     "output_type": "execute_result"
    }
   ],
   "source": [
    "occurences(\"en revoir\", 'u')"
   ]
  },
  {
   "cell_type": "markdown",
   "metadata": {},
   "source": [
    "***\n",
    "Exercice 9.\n",
    "***\n",
    "1. Ecrire une fonction récursive permettant de calculer le pgcd de de nombres entiers $a$ et $b$. On pourra supposer $a\\geq b>0$. "
   ]
  },
  {
   "cell_type": "code",
   "execution_count": 47,
   "metadata": {},
   "outputs": [],
   "source": [
    "def pgcd(a,b):\n",
    "    if a%b == 0:\n",
    "        return b\n",
    "    else:\n",
    "        return pgcd(b, a%b)"
   ]
  },
  {
   "cell_type": "code",
   "execution_count": 49,
   "metadata": {},
   "outputs": [
    {
     "data": {
      "text/plain": [
       "7"
      ]
     },
     "execution_count": 49,
     "metadata": {},
     "output_type": "execute_result"
    }
   ],
   "source": [
    "pgcd(28,49)"
   ]
  },
  {
   "cell_type": "markdown",
   "metadata": {},
   "source": [
    "2. Réécrire la fonction précédente en utilisant une lambda."
   ]
  },
  {
   "cell_type": "code",
   "execution_count": 50,
   "metadata": {},
   "outputs": [],
   "source": [
    "pgcd = lambda a,b: pgcd(b, a%b) if a%b else b"
   ]
  },
  {
   "cell_type": "code",
   "execution_count": 51,
   "metadata": {},
   "outputs": [
    {
     "data": {
      "text/plain": [
       "2"
      ]
     },
     "execution_count": 51,
     "metadata": {},
     "output_type": "execute_result"
    }
   ],
   "source": [
    "pgcd(102,4)"
   ]
  },
  {
   "cell_type": "code",
   "execution_count": null,
   "metadata": {},
   "outputs": [],
   "source": []
  }
 ],
 "metadata": {
  "kernelspec": {
   "display_name": "Python 3",
   "language": "python",
   "name": "python3"
  },
  "language_info": {
   "codemirror_mode": {
    "name": "ipython",
    "version": 3
   },
   "file_extension": ".py",
   "mimetype": "text/x-python",
   "name": "python",
   "nbconvert_exporter": "python",
   "pygments_lexer": "ipython3",
   "version": "3.7.3"
  }
 },
 "nbformat": 4,
 "nbformat_minor": 2
}
