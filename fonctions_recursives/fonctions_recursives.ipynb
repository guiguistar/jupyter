{
 "cells": [
  {
   "cell_type": "markdown",
   "metadata": {},
   "source": [
    "# Les fonctions récursives\n",
    "## Définition\n",
    "Une fonction qui contient un appel à elle-même sera dite *recursive*.\n",
    "### En mathématiques\n",
    "Une définition récursive est une définition dans laquelle intervient le nom que l'on est en train de définir.\n",
    "#### Exemple\n",
    "La fonction factorielle est définie en mathématiques, pour $n\\in\\mathbb{N}$ par:\n",
    "\n",
    "$$\n",
    "n!=\n",
    "\\begin{cases}\n",
    "1\\;\\textrm{si}\\;n=0\\\\\n",
    "n\\times(n-1)! \n",
    "\\end{cases}\n",
    "$$\n",
    "\n",
    "Cette définition récursive (en mathématiques, on parlera de *récurrence*): le nom \"$!$\" intervient dans le corps de sa propre définition. Le calcul de $n!$ termine toujours: le cas $n=0$ arrivera forcément.\n",
    "### Fonction récursive\n",
    "Il n'y a qu'à traduire la définition par récurrence mathématique:"
   ]
  },
  {
   "cell_type": "code",
   "execution_count": 3,
   "metadata": {},
   "outputs": [],
   "source": [
    "def fact(n):\n",
    "    if n == 0:\n",
    "        return 1\n",
    "    else:\n",
    "        return n * fact(n-1)"
   ]
  },
  {
   "cell_type": "markdown",
   "metadata": {},
   "source": [
    "## Fonctionnement et règles\n",
    "### Fonctionnement\n",
    "L'appel de la fonction **fact(n)** provoquera l'appel **fact(n-1)** qui lui-même provoquera l'appel **fact(n-2)** et ainsi de suite (la *descente* dans les appels récursifs) jusqu'à arriver au \"cas d'arrêt\": l'appel **fact(0)**. A partir de là, la *remontée* commence: **fact(0)** retourne sa valeur, l'appel du dessus **fact(1)** peut alors se terminer à son tour et on remonte ainsi (chaque appel terminé est remplacé par sa valeur dans l'appel du dessus qui peut se terminer à son tour) jusqu'à l'appel initial.\n",
    "### Eviter la récursion infinie\n",
    "Si on oublie le cas d'arrêt ou si l'appel récursif ne se fait pas sur des valeurs différentes qui évoluent vers le cas d'arrêt, la fonction partira en *récursion infinie*: un nombre infini (en théorie) d'appels sera fait.\n",
    "\n",
    "Le schéma d'un algorithme récursif est simple:\n",
    "\n",
    "**si** <condition d'arrêt> **alors**<br>\n",
    "&nbsp;&nbsp;<instruction d'arrêt><br>\n",
    "**sinon**<br>\n",
    "&nbsp;&nbsp;<instruction comportant un appel récursif><br>\n",
    "**fin si**"
   ]
  },
  {
   "cell_type": "markdown",
   "metadata": {},
   "source": [
    "+ Règle 1: un algorithme récursif contient toujours un cas d'arrêt\n",
    "+ Règle 2: l'appel récursif doit toujours être fait sur des données différentes évoluant vers le cas d'arrêt\n",
    "\n",
    "Dans certains cas, la récursion infinie peut être due à des paramètres non valides (par exemple, $n\\notin\\mathbb{N}$ dans **fact**). Les tests pour éviter cela doivent être faits avant d'appeler la fonction récursive (et surtout pas dans la fonction récursive)."
   ]
  },
  {
   "cell_type": "markdown",
   "metadata": {},
   "source": [
    "### Penser récursif\n",
    "Si l'on doit implémenter une fonction déjà définie par récurrence, alors il n'y a qu'à la traduire. Sinon, on doit trouver un équivalent à l'\"équation de récurrence\", c'est-à-dire exprimer le problème en fonction du même problème, mais sur des **données plus petites**, sans oublier de définir un cas d'arrêt.\n",
    "\n",
    "Le principe de la récursivité: pour décrire un algorithme prenant en entrée une donnée *d*, on fait un appel au même algorithme prenant en entree une donnée *d'* fonction de *d* (en général n sous-ensemble de *d* ou une donnée \"plus petite\").\n",
    "## Plusieurs appels\n",
    "Une fonction (ou procédure) peut comporter plusieurs appels récursifs. Par exemple, la suite de Fibonacci définie, pour $n\\in\\mathbb{N}$, par:\n",
    "$$\n",
    "F(n)=\n",
    "\\begin{cases}\n",
    "1\\;\\textrm{si}\\;n\\leq 1\\\\\n",
    "F(n-1)+F(n-2)\\;\\textrm{sinon}    \n",
    "\\end{cases}\n",
    "$$\n",
    "\n",
    "que l'on traduit tout simplement:"
   ]
  },
  {
   "cell_type": "code",
   "execution_count": 4,
   "metadata": {},
   "outputs": [],
   "source": [
    "def fibo(n):\n",
    "    if n == 0 or n == 1:\n",
    "        return 1\n",
    "    else:\n",
    "        return fibo(n-1) + fib(n-2)"
   ]
  },
  {
   "cell_type": "markdown",
   "metadata": {},
   "source": [
    "## Conclusion\n",
    "Pour définir un algorithme récursif on essaiera donc de trouver une définition par récurrence du problème. Il faudra pour cela exprimer le problème en fonctoin de \"lui-même\" mais sur des données plus petites (ou un sous-ensemble des données).\n",
    "\n",
    "Il faut s'assurer de la terminaison d'un algorithme récursif. Pour cela:\n",
    "+ il doit toujours y avoir au moins un cas d'arrêt\n",
    "+ le ou les appel(s) récursif(s) se font sur des données différentes, en général, fonctions des données initiales. Cette évolution doit forcément tendre vers un cas d'arrêt!\n",
    "\n",
    "Une bonne manière de faire: ne pas trop essayer de suivre dans les moindres détails les appels récursifs pour comprendre le sens d'une fonction récursive. Il vaut mieux en général comprendre synthétiquement la fonction."
   ]
  },
  {
   "cell_type": "markdown",
   "metadata": {},
   "source": [
    "**Il faut avoir confiance en la récursivité**"
   ]
  },
  {
   "cell_type": "markdown",
   "metadata": {},
   "source": [
    "## Ressources \n",
    "+ MiMo à l'adresse: https://courses.ionisx.com/courses/ref/m186/x/courseware/6a5a0ff9b91f42e3b300acd85c4256cc/a70f70ef67d94827857dd30e6d71e509/\n",
    "+ Carnet disponible à l'adresse: https://github.com/guiguistar/jupyter/tree/master/fonctions_recursives"
   ]
  },
  {
   "cell_type": "markdown",
   "metadata": {},
   "source": [
    "## Annexes\n",
    "Idées:\n",
    "+ récursivité et lambda"
   ]
  },
  {
   "cell_type": "code",
   "execution_count": null,
   "metadata": {},
   "outputs": [],
   "source": []
  }
 ],
 "metadata": {
  "kernelspec": {
   "display_name": "Python 3",
   "language": "python",
   "name": "python3"
  },
  "language_info": {
   "codemirror_mode": {
    "name": "ipython",
    "version": 3
   },
   "file_extension": ".py",
   "mimetype": "text/x-python",
   "name": "python",
   "nbconvert_exporter": "python",
   "pygments_lexer": "ipython3",
   "version": "3.8.3"
  }
 },
 "nbformat": 4,
 "nbformat_minor": 4
}
