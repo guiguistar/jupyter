{
 "cells": [
  {
   "cell_type": "markdown",
   "metadata": {},
   "source": [
    "# Statistiques sur les communes de France"
   ]
  },
  {
   "cell_type": "markdown",
   "metadata": {},
   "source": [
    "## Un apprentissage par problème (APP) déstiné aux étudiants du module \"Algorithmie avancée 1\""
   ]
  },
  {
   "cell_type": "markdown",
   "metadata": {},
   "source": [
    "Le sujet s'appuie sur les données contenues dans le fichier https://www.data.gouv.fr/fr/datasets/r/554590ab-ae62-40ac-8353-ee75162c05ee, qu'il vous est demandé de télécharger (dans le même dossier que ce notebook)."
   ]
  },
  {
   "cell_type": "markdown",
   "metadata": {},
   "source": [
    "Le but de l'APP est de fournir des algorithmes permettant de trier les communes de France selon certains critères."
   ]
  },
  {
   "cell_type": "markdown",
   "metadata": {},
   "source": [
    "### Importation des données"
   ]
  },
  {
   "cell_type": "code",
   "execution_count": 31,
   "metadata": {},
   "outputs": [
    {
     "name": "stdout",
     "output_type": "stream",
     "text": [
      "39193\n",
      "['Code_commune_INSEE', 'Nom_commune', 'Code_postal', 'Ligne_5', 'Libellé_d_acheminement', 'coordonnees_gps\\n']\n",
      "['87114', 'PANAZOL', '87350', '', 'PANAZOL', '45.8407332178,1.32357791715\\n']\n",
      "['87126', 'ROCHECHOUART', '87600', '', 'ROCHECHOUART', '45.8236032815,0.84280512319\\n']\n",
      "['87130', 'ROZIERS ST GEORGES', '87130', '', 'ROZIERS ST GEORGES', '45.7432695076,1.56065453243\\n']\n",
      "['87131', 'SAILLAT SUR VIENNE', '87720', '', 'SAILLAT SUR VIENNE', '45.8704899446,0.834066842263\\n']\n",
      "['87137', 'ST BAZILE', '87150', '', 'ST BAZILE', '45.7346220066,0.807218203369\\n']\n"
     ]
    }
   ],
   "source": [
    "# coding: utf-8\n",
    "communes = []\n",
    "with open(\"laposte_hexasmal.csv\", encoding=\"utf-8\") as f:\n",
    "    lignes = f.readlines()\n",
    "    for ligne in lignes:\n",
    "        communes.append(ligne.split(\";\"))\n",
    "print(len(communes))\n",
    "print(communes[0])\n",
    "print(*communes[-5:], sep=\"\\n\")"
   ]
  },
  {
   "cell_type": "markdown",
   "metadata": {},
   "source": [
    "### Note\n",
    "Le serveur jupyter doit être condfiguré pour accepter d'ouvrir les fichiers dépassant une certaine taille. "
   ]
  },
  {
   "cell_type": "code",
   "execution_count": 18,
   "metadata": {},
   "outputs": [],
   "source": [
    "def tri_bulle(communes):\n",
    "    for i in range(1, len(communes)):\n",
    "        for j in range(len(communes)-i):\n",
    "            if communes[j][1] > communes[j+1][1]:\n",
    "                communes[j], communes[j+1] = communes[j+1], communes[j]"
   ]
  },
  {
   "cell_type": "code",
   "execution_count": 32,
   "metadata": {},
   "outputs": [
    {
     "name": "stdout",
     "output_type": "stream",
     "text": [
      "['59001', 'ABANCOURT', '59268', '', 'ABANCOURT', '50.2368696873,3.20731301738\\n']\n",
      "['55002', 'ABAUCOURT HAUTECOURT', '55400', '', 'ABAUCOURT HAUTECOURT', '49.1969606553,5.54868808043\\n']\n",
      "['02001', 'ABBECOURT', '02300', '', 'ABBECOURT', '49.5991518653,3.17708232927\\n']\n",
      "['25003', 'ABBENANS', '25340', '', 'ABBENANS', '47.4960879279,6.45060175112\\n']\n",
      "['60003', 'ABBEVILLE ST LUCIEN', '60480', '', 'ABBEVILLE ST LUCIEN', '49.5201068363,2.16636536385\\n']\n",
      "['25004', 'ABBEVILLERS', '25310', '', 'ABBEVILLERS', '47.427439192,6.92162186226\\n']\n",
      "['39001', 'ABERGEMENT LA RONCE', '39500', '', 'ABERGEMENT LA RONCE', '47.0649669593,5.37826421743\\n']\n",
      "['39002', 'ABERGEMENT LE GRAND', '39600', '', 'ABERGEMENT LE GRAND', '46.9142864988,5.67853452364\\n']\n",
      "['24001', 'ABJAT SUR BANDIAT', '24300', '', 'ABJAT SUR BANDIAT', '45.5817657415,0.759998823063\\n']\n",
      "['62001', 'ABLAIN ST NAZAIRE', '62153', '', 'ABLAIN ST NAZAIRE', '50.3965609084,2.69725163344\\n']\n"
     ]
    }
   ],
   "source": [
    "#communes.sort(key=lambda ligne: ligne[1])\n",
    "communes_ = communes[0:10000]\n",
    "tri_bulle(communes_)\n",
    "print(*communes_[:10], sep=\"\\n\")"
   ]
  },
  {
   "cell_type": "code",
   "execution_count": 9,
   "metadata": {},
   "outputs": [
    {
     "data": {
      "text/plain": [
       "[4, 1, 2, 3]"
      ]
     },
     "execution_count": 9,
     "metadata": {},
     "output_type": "execute_result"
    }
   ],
   "source": [
    "l=[4,1,2,3]\n",
    "sorted(l)\n",
    "l"
   ]
  }
 ],
 "metadata": {
  "kernelspec": {
   "display_name": "Python 3",
   "language": "python",
   "name": "python3"
  },
  "language_info": {
   "codemirror_mode": {
    "name": "ipython",
    "version": 3
   },
   "file_extension": ".py",
   "mimetype": "text/x-python",
   "name": "python",
   "nbconvert_exporter": "python",
   "pygments_lexer": "ipython3",
   "version": "3.7.3"
  }
 },
 "nbformat": 4,
 "nbformat_minor": 2
}
