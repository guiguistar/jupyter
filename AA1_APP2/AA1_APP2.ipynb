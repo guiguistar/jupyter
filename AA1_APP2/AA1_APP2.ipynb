{
 "cells": [
  {
   "cell_type": "markdown",
   "metadata": {},
   "source": [
    "# Statistiques sur les communes de France"
   ]
  },
  {
   "cell_type": "markdown",
   "metadata": {},
   "source": [
    "## Un apprentissage par problème (APP) déstiné aux étudiants du module \"Algorithmie avancée 1\""
   ]
  },
  {
   "cell_type": "markdown",
   "metadata": {},
   "source": [
    "Le sujet s'appuie sur les données contenues dans le fichier https://www.data.gouv.fr/fr/datasets/r/554590ab-ae62-40ac-8353-ee75162c05ee, qu'il vous est demandé de télécharger (dans le même dossier que ce notebook)."
   ]
  },
  {
   "cell_type": "markdown",
   "metadata": {},
   "source": [
    "Le but de l'APP est de fournir des algorithmes permettant de trier les communes de France selon certains critères."
   ]
  },
  {
   "cell_type": "markdown",
   "metadata": {},
   "source": [
    "Vous devez implémenter un algorithme permettant de trier les communes de France par ordre croissant de distance à une ville donnée. Votre algorithme devra être le plus rapide possible."
   ]
  },
  {
   "cell_type": "markdown",
   "metadata": {},
   "source": [
    "### Les ressources pour traiter la situation-problème\n",
    "+ Module 29 : Notions er dénmbrement\n",
    "+ Module 30 : Analuse de deux tris itératifs\n",
    "+ Module 31 : Notations pour l'analyser asymptotique"
   ]
  },
  {
   "cell_type": "markdown",
   "metadata": {},
   "source": [
    "### Timing séance \"aller\" et travail individuel"
   ]
  },
  {
   "cell_type": "markdown",
   "metadata": {},
   "source": [
    "### Timing séance \"retour\""
   ]
  },
  {
   "cell_type": "markdown",
   "metadata": {},
   "source": [
    "### Des fonctions pour faciliter le travail en équipe"
   ]
  },
  {
   "cell_type": "markdown",
   "metadata": {},
   "source": [
    "### Evaluation du travail en équipe (1)"
   ]
  },
  {
   "cell_type": "markdown",
   "metadata": {},
   "source": [
    "### Evaluation du travail en équipe (2)"
   ]
  },
  {
   "cell_type": "markdown",
   "metadata": {},
   "source": [
    "### Evaluation de votre travail individuel"
   ]
  },
  {
   "cell_type": "markdown",
   "metadata": {},
   "source": [
    "### Notes aux tuteurs\n",
    "\n",
    "Les étudiants seront confronté à la question du pré-traitement des données pour optimiser leur algorithme."
   ]
  },
  {
   "cell_type": "markdown",
   "metadata": {},
   "source": [
    "### Importation des données"
   ]
  },
  {
   "cell_type": "code",
   "execution_count": 1,
   "metadata": {},
   "outputs": [
    {
     "name": "stdout",
     "output_type": "stream",
     "text": [
      "39193\n",
      "['Code_commune_INSEE', 'Nom_commune', 'Code_postal', 'Ligne_5', 'Libellé_d_acheminement', 'coordonnees_gps\\n']\n",
      "['87114', 'PANAZOL', '87350', '', 'PANAZOL', '45.8407332178,1.32357791715\\n']\n",
      "['87126', 'ROCHECHOUART', '87600', '', 'ROCHECHOUART', '45.8236032815,0.84280512319\\n']\n",
      "['87130', 'ROZIERS ST GEORGES', '87130', '', 'ROZIERS ST GEORGES', '45.7432695076,1.56065453243\\n']\n",
      "['87131', 'SAILLAT SUR VIENNE', '87720', '', 'SAILLAT SUR VIENNE', '45.8704899446,0.834066842263\\n']\n",
      "['87137', 'ST BAZILE', '87150', '', 'ST BAZILE', '45.7346220066,0.807218203369\\n']\n"
     ]
    }
   ],
   "source": [
    "# coding: utf-8\n",
    "communes = []\n",
    "with open(\"laposte_hexasmal.csv\", encoding=\"utf-8\") as f:\n",
    "    lignes = f.readlines()\n",
    "    for ligne in lignes:\n",
    "        communes.append(ligne.split(\";\"))\n",
    "print(len(communes))\n",
    "print(communes[0])\n",
    "print(*communes[-5:], sep=\"\\n\")"
   ]
  },
  {
   "cell_type": "markdown",
   "metadata": {},
   "source": [
    "### Note\n",
    "Le serveur jupyter doit être condfiguré pour accepter d'ouvrir les fichiers dépassant une certaine taille. "
   ]
  },
  {
   "cell_type": "code",
   "execution_count": 10,
   "metadata": {},
   "outputs": [],
   "source": [
    "def rechercher(ville):\n",
    "    indice = -1\n",
    "    for i, commune in enumerate(communes):\n",
    "        if commune[1] == ville:\n",
    "            indice = i\n",
    "            break\n",
    "    return indice"
   ]
  },
  {
   "cell_type": "code",
   "execution_count": 16,
   "metadata": {},
   "outputs": [
    {
     "data": {
      "text/plain": [
       "27481"
      ]
     },
     "execution_count": 16,
     "metadata": {},
     "output_type": "execute_result"
    }
   ],
   "source": [
    "rechercher('PARIS 01')"
   ]
  },
  {
   "cell_type": "code",
   "execution_count": 17,
   "metadata": {},
   "outputs": [],
   "source": [
    "def tri_bulle(communes, f):\n",
    "    for i in range(1, len(communes)):\n",
    "        for j in range(len(communes)-i):\n",
    "            if f(communes[j]) > f(communes[j+1]):\n",
    "                communes[j], communes[j+1] = communes[j+1], communes[j]"
   ]
  },
  {
   "cell_type": "code",
   "execution_count": 28,
   "metadata": {},
   "outputs": [],
   "source": [
    "def fusion(liste1, liste2, f):\n",
    "    res = []\n",
    "    while liste1 and liste2:\n",
    "        if f(liste1[0]) < f(liste2[0]):\n",
    "            res.append(liste1.pop(0))\n",
    "        else:\n",
    "            res.append(liste2.pop(0))\n",
    "    if liste1:\n",
    "        res += liste1\n",
    "    if liste2:\n",
    "        res += liste2\n",
    "    return res\n",
    "def tri_fusion(liste, f):\n",
    "    if len(liste) == 1:\n",
    "        return liste\n",
    "    else:\n",
    "        milieu = len(liste) // 2\n",
    "        return fusion(tri_fusion(liste[:milieu], f), tri_fusion(liste[milieu:], f), f)"
   ]
  },
  {
   "cell_type": "markdown",
   "metadata": {},
   "source": [
    "Le nombre d'entrées dans la base de donnée est convenable. Un tri en $O(n^{2})$ de la totalité des données est possible mais prendra plusieurs minutes. Cela doit pousser les étudiants à implémenter un algorithme en $O(n\\ln(n))$. Un algorithme en $O(n\\ln(n))$ prend moins d'une seconde pour trier l'intégralité des données."
   ]
  },
  {
   "cell_type": "code",
   "execution_count": 31,
   "metadata": {},
   "outputs": [
    {
     "name": "stdout",
     "output_type": "stream",
     "text": [
      "2 0.0\n",
      "4 0.0\n",
      "8 0.0\n",
      "16 0.0\n",
      "32 0.0\n",
      "64 0.0\n",
      "128 0.0\n",
      "256 0.000997781753540039\n",
      "512 0.0019941329956054688\n",
      "1024 0.0049893856048583984\n",
      "2048 0.013958930969238281\n",
      "4096 0.019972562789916992\n",
      "8192 0.03290843963623047\n",
      "16384 0.06485176086425781\n",
      "32768 0.15459609031677246\n",
      "65536 0.4079406261444092\n",
      "['64001', 'AAST', '64460', '', 'AAST', '43.2908772184,-0.0817726913902\\n']\n",
      "['55001', 'ABAINVILLE', '55130', '', 'ABAINVILLE', '48.5326982449,5.51524727317\\n']\n",
      "['59001', 'ABANCOURT', '59268', '', 'ABANCOURT', '50.2368696873,3.20731301738\\n']\n",
      "['54001', 'ABAUCOURT', '54610', '', 'ABAUCOURT SUR SEILLE', '48.8928445916,6.26559712571\\n']\n",
      "['55002', 'ABAUCOURT HAUTECOURT', '55400', 'HAUTECOURT LES BROVILLE', 'ABAUCOURT HAUTECOURT', '49.1969606553,5.54868808043\\n']\n",
      "['55002', 'ABAUCOURT HAUTECOURT', '55400', '', 'ABAUCOURT HAUTECOURT', '49.1969606553,5.54868808043\\n']\n",
      "['44001', 'ABBARETZ', '44170', '', 'ABBARETZ', '47.5560384833,-1.49327262094\\n']\n",
      "['60002', 'ABBECOURT', '60430', '', 'ABBECOURT', '49.361199272,2.15509033815\\n']\n",
      "['02001', 'ABBECOURT', '02300', '', 'ABBECOURT', '49.5991518653,3.17708232927\\n']\n",
      "['25003', 'ABBENANS', '25340', '', 'ABBENANS', '47.4960879279,6.45060175112\\n']\n"
     ]
    }
   ],
   "source": [
    "#communes.sort(key=lambda ligne: ligne[1])\n",
    "import time\n",
    "N = 1\n",
    "t = 0\n",
    "while t < 60 and N < len(communes):\n",
    "    communes_ = communes[0:N]\n",
    "    t1 = time.time()\n",
    "    #tri_bulle(communes_, lambda ligne: ligne[1])\n",
    "    communes_ = tri_fusion(communes_, lambda ligne: ligne[1])\n",
    "    t2 = time.time()\n",
    "    t = t2 - t1\n",
    "    N *= 2\n",
    "    print(N, t)\n",
    "print(*communes_[:10], sep=\"\\n\")"
   ]
  },
  {
   "cell_type": "code",
   "execution_count": 36,
   "metadata": {},
   "outputs": [
    {
     "name": "stdout",
     "output_type": "stream",
     "text": [
      "(44.549017078, 4.50337369457)\n"
     ]
    }
   ],
   "source": [
    "def clef(ligne):\n",
    "    latitude, longitude = map(float, (ligne[5][:-1].split(',')))\n",
    "    return latitude, longitude\n",
    "#communes_ = tri_fusion()\n",
    "print(clef(communes[500]))"
   ]
  },
  {
   "cell_type": "code",
   "execution_count": 29,
   "metadata": {},
   "outputs": [
    {
     "name": "stdout",
     "output_type": "stream",
     "text": [
      "[1, 2, 3, 4]\n"
     ]
    }
   ],
   "source": [
    "l=[4,1,2,3]\n",
    "sorted(l)\n",
    "l\n",
    "print(tri_fusion(l,lambda x: x))"
   ]
  }
 ],
 "metadata": {
  "kernelspec": {
   "display_name": "Python 3",
   "language": "python",
   "name": "python3"
  },
  "language_info": {
   "codemirror_mode": {
    "name": "ipython",
    "version": 3
   },
   "file_extension": ".py",
   "mimetype": "text/x-python",
   "name": "python",
   "nbconvert_exporter": "python",
   "pygments_lexer": "ipython3",
   "version": "3.6.5"
  }
 },
 "nbformat": 4,
 "nbformat_minor": 2
}
