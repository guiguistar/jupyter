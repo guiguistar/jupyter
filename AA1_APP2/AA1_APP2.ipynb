{
 "cells": [
  {
   "cell_type": "markdown",
   "metadata": {},
   "source": [
    "# Statistiques sur les communes de France"
   ]
  },
  {
   "cell_type": "markdown",
   "metadata": {},
   "source": [
    "## Un apprentissage par problème (APP) déstiné aux étudiants du module \"Algorithmie avancée 1\""
   ]
  },
  {
   "cell_type": "markdown",
   "metadata": {},
   "source": [
    "Le sujet s'appuie sur les données contenues dans le fichier https://public.opendatasoft.com/explore/dataset/liste-des-communes-francaises/download/?format=csv&timezone=Europe/Berlin&lang=fr&use_labels_for_header=true&csv_separator=%3B, qu'il vous est demandé de télécharger (dans le même dossier que ce notebook)."
   ]
  },
  {
   "cell_type": "markdown",
   "metadata": {},
   "source": [
    "### Importation des données"
   ]
  },
  {
   "cell_type": "code",
   "execution_count": 7,
   "metadata": {},
   "outputs": [
    {
     "name": "stdout",
     "output_type": "stream",
     "text": [
      "['79074;La Chapelle-Pouilloux;Commune non dÃ©coupÃ©e en cantons;Commune non chef-lieu;75;79;74;2;8;LA / DE LA;CHAPELLE-POUILLOUX;Chapelle-Pouilloux;2016;LA;DE LA\\n', '72066;La Chapelle-Saint-Fray;Commune non dÃ©coupÃ©e en cantons;Commune non chef-lieu;52;72;66;2;7;LA / DE LA;CHAPELLE-SAINT-FRAY;Chapelle-Saint-Fray;2018;LA;DE LA\\n', '24067;Le Bugue;Commune non dÃ©coupÃ©e en cantons;Commune non chef-lieu;75;24;67;4;25;LE / DU;BUGUE;Bugue;2018;LE;DU\\n', '79063;Val en Vignes;Commune non dÃ©coupÃ©e en cantons;Commune non chef-lieu;75;79;63;1;17;/ DE;VAL EN VIGNES;Val en Vignes;2018;;DE\\n', '24438;Saint-Laurent-la-VallÃ©e;Commune non dÃ©coupÃ©e en cantons;Commune non chef-lieu;75;24;438;4;23;/ DE;SAINT-LAURENT-LA-VALLEE;Saint-Laurent-la-VallÃ©e;2016;;DE\\n']\n"
     ]
    }
   ],
   "source": [
    "# coding: utf-8\n",
    "with open('liste-des-communes-francaises-allegee.csv') as f:\n",
    "    lignes = f.readlines()\n",
    "print(lignes[-5:])"
   ]
  },
  {
   "cell_type": "markdown",
   "metadata": {},
   "source": [
    "### Note\n",
    "Le serveur jupyter doit être condfiguré pour accepter d'ouvrir les fichiers dépassant une certaine taille. "
   ]
  }
 ],
 "metadata": {
  "kernelspec": {
   "display_name": "Python 3",
   "language": "python",
   "name": "python3"
  },
  "language_info": {
   "codemirror_mode": {
    "name": "ipython",
    "version": 3
   },
   "file_extension": ".py",
   "mimetype": "text/x-python",
   "name": "python",
   "nbconvert_exporter": "python",
   "pygments_lexer": "ipython3",
   "version": "3.6.5"
  }
 },
 "nbformat": 4,
 "nbformat_minor": 2
}
