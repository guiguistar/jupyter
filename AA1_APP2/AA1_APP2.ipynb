{
 "cells": [
  {
   "cell_type": "markdown",
   "metadata": {},
   "source": [
    "# Statistiques sur les communes de France"
   ]
  },
  {
   "cell_type": "markdown",
   "metadata": {},
   "source": [
    "## Un apprentissage par problème (APP) déstiné aux étudiants du module \"Algorithmie avancée 1\""
   ]
  },
  {
   "cell_type": "markdown",
   "metadata": {},
   "source": [
    "Le sujet s'appuie sur les données contenues dans le fichier https://www.data.gouv.fr/fr/datasets/r/554590ab-ae62-40ac-8353-ee75162c05ee, qu'il vous est demandé de télécharger (dans le même dossier que ce notebook)."
   ]
  },
  {
   "cell_type": "markdown",
   "metadata": {},
   "source": [
    "### Importation des données"
   ]
  },
  {
   "cell_type": "code",
   "execution_count": 1,
   "metadata": {},
   "outputs": [
    {
     "name": "stdout",
     "output_type": "stream",
     "text": [
      "39193\n",
      "['87114;PANAZOL;87350;;PANAZOL;45.8407332178,1.32357791715\\n', '87126;ROCHECHOUART;87600;;ROCHECHOUART;45.8236032815,0.84280512319\\n', '87130;ROZIERS ST GEORGES;87130;;ROZIERS ST GEORGES;45.7432695076,1.56065453243\\n', '87131;SAILLAT SUR VIENNE;87720;;SAILLAT SUR VIENNE;45.8704899446,0.834066842263\\n', '87137;ST BAZILE;87150;;ST BAZILE;45.7346220066,0.807218203369\\n']\n"
     ]
    }
   ],
   "source": [
    "# coding: utf-8\n",
    "with open('laposte_hexasmal.csv') as f:\n",
    "    lignes = f.readlines()\n",
    "print(len(lignes))\n",
    "print(lignes[-5:])"
   ]
  },
  {
   "cell_type": "markdown",
   "metadata": {},
   "source": [
    "### Note\n",
    "Le serveur jupyter doit être condfiguré pour accepter d'ouvrir les fichiers dépassant une certaine taille. "
   ]
  }
 ],
 "metadata": {
  "kernelspec": {
   "display_name": "Python 3",
   "language": "python",
   "name": "python3"
  },
  "language_info": {
   "codemirror_mode": {
    "name": "ipython",
    "version": 3
   },
   "file_extension": ".py",
   "mimetype": "text/x-python",
   "name": "python",
   "nbconvert_exporter": "python",
   "pygments_lexer": "ipython3",
   "version": "3.7.3"
  }
 },
 "nbformat": 4,
 "nbformat_minor": 2
}
