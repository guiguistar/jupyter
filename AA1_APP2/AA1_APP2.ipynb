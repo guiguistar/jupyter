{
 "cells": [
  {
   "cell_type": "markdown",
   "metadata": {},
   "source": [
    "# Statistiques sur les communes de France"
   ]
  },
  {
   "cell_type": "markdown",
   "metadata": {},
   "source": [
    "## Un apprentissage par problème (APP) déstiné aux étudiants du module \"Algorithmie avancée 1\""
   ]
  },
  {
   "cell_type": "markdown",
   "metadata": {},
   "source": [
    "Le sujet s'appuie sur les données contenues dans le fichier https://www.data.gouv.fr/fr/datasets/r/554590ab-ae62-40ac-8353-ee75162c05ee, qu'il vous est demandé de télécharger (dans le même dossier que ce notebook)."
   ]
  },
  {
   "cell_type": "markdown",
   "metadata": {},
   "source": [
    "### Importation des données"
   ]
  },
  {
   "cell_type": "code",
   "execution_count": 4,
   "metadata": {},
   "outputs": [
    {
     "name": "stdout",
     "output_type": "stream",
     "text": [
      "['Code_commune_INSEE', 'Nom_commune', 'Code_postal', 'Ligne_5', 'Libellé_d_acheminement', 'coordonnees_gps\\n']\n",
      "['87114', 'PANAZOL', '87350', '', 'PANAZOL', '45.8407332178,1.32357791715\\n']\n",
      "['87126', 'ROCHECHOUART', '87600', '', 'ROCHECHOUART', '45.8236032815,0.84280512319\\n']\n",
      "['87130', 'ROZIERS ST GEORGES', '87130', '', 'ROZIERS ST GEORGES', '45.7432695076,1.56065453243\\n']\n",
      "['87131', 'SAILLAT SUR VIENNE', '87720', '', 'SAILLAT SUR VIENNE', '45.8704899446,0.834066842263\\n']\n",
      "['87137', 'ST BAZILE', '87150', '', 'ST BAZILE', '45.7346220066,0.807218203369\\n']\n"
     ]
    }
   ],
   "source": [
    "# coding: utf-8\n",
    "communes = []\n",
    "with open(\"laposte_hexasmal.csv\", encoding=\"utf-8\") as f:\n",
    "    lignes = f.readlines()\n",
    "    for ligne in lignes:\n",
    "        communes.append(ligne.split(\";\"))\n",
    "print(communes[0])\n",
    "print(*communes[-5:], sep=\"\\n\")"
   ]
  },
  {
   "cell_type": "markdown",
   "metadata": {},
   "source": [
    "### Note\n",
    "Le serveur jupyter doit être condfiguré pour accepter d'ouvrir les fichiers dépassant une certaine taille. "
   ]
  }
 ],
 "metadata": {
  "kernelspec": {
   "display_name": "Python 3",
   "language": "python",
   "name": "python3"
  },
  "language_info": {
   "codemirror_mode": {
    "name": "ipython",
    "version": 3
   },
   "file_extension": ".py",
   "mimetype": "text/x-python",
   "name": "python",
   "nbconvert_exporter": "python",
   "pygments_lexer": "ipython3",
   "version": "3.6.5"
  }
 },
 "nbformat": 4,
 "nbformat_minor": 2
}
